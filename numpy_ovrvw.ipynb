{
 "cells": [
  {
   "cell_type": "code",
   "execution_count": 3,
   "id": "cb3d328f",
   "metadata": {},
   "outputs": [],
   "source": [
    "import pandas as pd\n",
    "import numpy as np"
   ]
  },
  {
   "cell_type": "code",
   "execution_count": 92,
   "id": "73e706b0",
   "metadata": {},
   "outputs": [
    {
     "data": {
      "text/plain": [
       "array([ 2.,  5.,  8., 11., 14., 17., 20., 23., 26.])"
      ]
     },
     "execution_count": 92,
     "metadata": {},
     "output_type": "execute_result"
    }
   ],
   "source": [
    "#Initializing an array with list#\n",
    "ar1 = np.array([i for i in range(2, 29, 3)], dtype = float)\n",
    "arx = list(ar1)\n",
    "ar1"
   ]
  },
  {
   "cell_type": "code",
   "execution_count": 97,
   "id": "2429d675",
   "metadata": {},
   "outputs": [
    {
     "data": {
      "text/plain": [
       "array([ 2,  5,  8, 11, 14, 17, 20, 23, 26])"
      ]
     },
     "execution_count": 97,
     "metadata": {},
     "output_type": "execute_result"
    }
   ],
   "source": [
    "#Initializing an array with integer values from a list#\n",
    "ar1 = np.array(arx, dtype = 'int32')\n",
    "ar1"
   ]
  },
  {
   "cell_type": "code",
   "execution_count": 26,
   "id": "c4ac4461",
   "metadata": {},
   "outputs": [],
   "source": [
    "array = np.random.randint(1, 100,(10, 2))"
   ]
  },
  {
   "cell_type": "code",
   "execution_count": 29,
   "id": "1eaa2014",
   "metadata": {},
   "outputs": [],
   "source": [
    "df2 = pd.DataFrame(array)"
   ]
  },
  {
   "cell_type": "code",
   "execution_count": 23,
   "id": "9c82633f",
   "metadata": {},
   "outputs": [],
   "source": [
    "li = [[i for i in range(j,j+2)] for j in range(1, 11)]"
   ]
  },
  {
   "cell_type": "code",
   "execution_count": 24,
   "id": "ba8587a7",
   "metadata": {},
   "outputs": [],
   "source": [
    "df = pd.DataFrame(li)"
   ]
  },
  {
   "cell_type": "code",
   "execution_count": 41,
   "id": "2f2c5e7e",
   "metadata": {},
   "outputs": [
    {
     "data": {
      "text/html": [
       "<div>\n",
       "<style scoped>\n",
       "    .dataframe tbody tr th:only-of-type {\n",
       "        vertical-align: middle;\n",
       "    }\n",
       "\n",
       "    .dataframe tbody tr th {\n",
       "        vertical-align: top;\n",
       "    }\n",
       "\n",
       "    .dataframe thead th {\n",
       "        text-align: right;\n",
       "    }\n",
       "</style>\n",
       "<table border=\"1\" class=\"dataframe\">\n",
       "  <thead>\n",
       "    <tr style=\"text-align: right;\">\n",
       "      <th></th>\n",
       "      <th>a</th>\n",
       "      <th>b</th>\n",
       "    </tr>\n",
       "  </thead>\n",
       "  <tbody>\n",
       "    <tr>\n",
       "      <th>0</th>\n",
       "      <td>1</td>\n",
       "      <td>2</td>\n",
       "    </tr>\n",
       "    <tr>\n",
       "      <th>1</th>\n",
       "      <td>2</td>\n",
       "      <td>3</td>\n",
       "    </tr>\n",
       "    <tr>\n",
       "      <th>2</th>\n",
       "      <td>3</td>\n",
       "      <td>4</td>\n",
       "    </tr>\n",
       "    <tr>\n",
       "      <th>3</th>\n",
       "      <td>4</td>\n",
       "      <td>5</td>\n",
       "    </tr>\n",
       "    <tr>\n",
       "      <th>4</th>\n",
       "      <td>5</td>\n",
       "      <td>6</td>\n",
       "    </tr>\n",
       "    <tr>\n",
       "      <th>5</th>\n",
       "      <td>6</td>\n",
       "      <td>7</td>\n",
       "    </tr>\n",
       "    <tr>\n",
       "      <th>6</th>\n",
       "      <td>7</td>\n",
       "      <td>8</td>\n",
       "    </tr>\n",
       "    <tr>\n",
       "      <th>7</th>\n",
       "      <td>8</td>\n",
       "      <td>9</td>\n",
       "    </tr>\n",
       "    <tr>\n",
       "      <th>8</th>\n",
       "      <td>9</td>\n",
       "      <td>10</td>\n",
       "    </tr>\n",
       "    <tr>\n",
       "      <th>9</th>\n",
       "      <td>10</td>\n",
       "      <td>11</td>\n",
       "    </tr>\n",
       "  </tbody>\n",
       "</table>\n",
       "</div>"
      ],
      "text/plain": [
       "    a   b\n",
       "0   1   2\n",
       "1   2   3\n",
       "2   3   4\n",
       "3   4   5\n",
       "4   5   6\n",
       "5   6   7\n",
       "6   7   8\n",
       "7   8   9\n",
       "8   9  10\n",
       "9  10  11"
      ]
     },
     "execution_count": 41,
     "metadata": {},
     "output_type": "execute_result"
    }
   ],
   "source": [
    "df.columns = [\"a\", \"b\"]\n",
    "df"
   ]
  },
  {
   "cell_type": "code",
   "execution_count": 38,
   "id": "177f7c33",
   "metadata": {},
   "outputs": [],
   "source": [
    "df3 = df.copy()\n",
    "df3.columns= [\"c\", \"d\"]"
   ]
  },
  {
   "cell_type": "code",
   "execution_count": 39,
   "id": "9e2255f8",
   "metadata": {},
   "outputs": [
    {
     "data": {
      "text/html": [
       "<div>\n",
       "<style scoped>\n",
       "    .dataframe tbody tr th:only-of-type {\n",
       "        vertical-align: middle;\n",
       "    }\n",
       "\n",
       "    .dataframe tbody tr th {\n",
       "        vertical-align: top;\n",
       "    }\n",
       "\n",
       "    .dataframe thead th {\n",
       "        text-align: right;\n",
       "    }\n",
       "</style>\n",
       "<table border=\"1\" class=\"dataframe\">\n",
       "  <thead>\n",
       "    <tr style=\"text-align: right;\">\n",
       "      <th></th>\n",
       "      <th>c</th>\n",
       "      <th>d</th>\n",
       "    </tr>\n",
       "  </thead>\n",
       "  <tbody>\n",
       "    <tr>\n",
       "      <th>0</th>\n",
       "      <td>1</td>\n",
       "      <td>2</td>\n",
       "    </tr>\n",
       "    <tr>\n",
       "      <th>1</th>\n",
       "      <td>2</td>\n",
       "      <td>3</td>\n",
       "    </tr>\n",
       "    <tr>\n",
       "      <th>2</th>\n",
       "      <td>3</td>\n",
       "      <td>4</td>\n",
       "    </tr>\n",
       "    <tr>\n",
       "      <th>3</th>\n",
       "      <td>4</td>\n",
       "      <td>5</td>\n",
       "    </tr>\n",
       "    <tr>\n",
       "      <th>4</th>\n",
       "      <td>5</td>\n",
       "      <td>6</td>\n",
       "    </tr>\n",
       "    <tr>\n",
       "      <th>5</th>\n",
       "      <td>6</td>\n",
       "      <td>7</td>\n",
       "    </tr>\n",
       "    <tr>\n",
       "      <th>6</th>\n",
       "      <td>7</td>\n",
       "      <td>8</td>\n",
       "    </tr>\n",
       "    <tr>\n",
       "      <th>7</th>\n",
       "      <td>8</td>\n",
       "      <td>9</td>\n",
       "    </tr>\n",
       "    <tr>\n",
       "      <th>8</th>\n",
       "      <td>9</td>\n",
       "      <td>10</td>\n",
       "    </tr>\n",
       "    <tr>\n",
       "      <th>9</th>\n",
       "      <td>10</td>\n",
       "      <td>11</td>\n",
       "    </tr>\n",
       "  </tbody>\n",
       "</table>\n",
       "</div>"
      ],
      "text/plain": [
       "    c   d\n",
       "0   1   2\n",
       "1   2   3\n",
       "2   3   4\n",
       "3   4   5\n",
       "4   5   6\n",
       "5   6   7\n",
       "6   7   8\n",
       "7   8   9\n",
       "8   9  10\n",
       "9  10  11"
      ]
     },
     "execution_count": 39,
     "metadata": {},
     "output_type": "execute_result"
    }
   ],
   "source": [
    "df3"
   ]
  },
  {
   "cell_type": "code",
   "execution_count": 52,
   "id": "81c4d589",
   "metadata": {},
   "outputs": [],
   "source": [
    "merged = df3.merge(df, how = \"outer\", left_on = \"c\", right_on = \"a\")"
   ]
  },
  {
   "cell_type": "code",
   "execution_count": 55,
   "id": "a1bf8824",
   "metadata": {},
   "outputs": [
    {
     "data": {
      "text/html": [
       "<div>\n",
       "<style scoped>\n",
       "    .dataframe tbody tr th:only-of-type {\n",
       "        vertical-align: middle;\n",
       "    }\n",
       "\n",
       "    .dataframe tbody tr th {\n",
       "        vertical-align: top;\n",
       "    }\n",
       "\n",
       "    .dataframe thead th {\n",
       "        text-align: right;\n",
       "    }\n",
       "</style>\n",
       "<table border=\"1\" class=\"dataframe\">\n",
       "  <thead>\n",
       "    <tr style=\"text-align: right;\">\n",
       "      <th></th>\n",
       "      <th>c</th>\n",
       "      <th>d</th>\n",
       "      <th>a</th>\n",
       "      <th>b</th>\n",
       "    </tr>\n",
       "  </thead>\n",
       "  <tbody>\n",
       "    <tr>\n",
       "      <th>0</th>\n",
       "      <td>1</td>\n",
       "      <td>2</td>\n",
       "      <td>1</td>\n",
       "      <td>2</td>\n",
       "    </tr>\n",
       "    <tr>\n",
       "      <th>1</th>\n",
       "      <td>2</td>\n",
       "      <td>3</td>\n",
       "      <td>2</td>\n",
       "      <td>3</td>\n",
       "    </tr>\n",
       "    <tr>\n",
       "      <th>2</th>\n",
       "      <td>3</td>\n",
       "      <td>4</td>\n",
       "      <td>3</td>\n",
       "      <td>4</td>\n",
       "    </tr>\n",
       "    <tr>\n",
       "      <th>3</th>\n",
       "      <td>4</td>\n",
       "      <td>5</td>\n",
       "      <td>4</td>\n",
       "      <td>5</td>\n",
       "    </tr>\n",
       "    <tr>\n",
       "      <th>4</th>\n",
       "      <td>5</td>\n",
       "      <td>6</td>\n",
       "      <td>5</td>\n",
       "      <td>6</td>\n",
       "    </tr>\n",
       "    <tr>\n",
       "      <th>5</th>\n",
       "      <td>6</td>\n",
       "      <td>7</td>\n",
       "      <td>6</td>\n",
       "      <td>7</td>\n",
       "    </tr>\n",
       "    <tr>\n",
       "      <th>6</th>\n",
       "      <td>7</td>\n",
       "      <td>8</td>\n",
       "      <td>7</td>\n",
       "      <td>8</td>\n",
       "    </tr>\n",
       "    <tr>\n",
       "      <th>7</th>\n",
       "      <td>8</td>\n",
       "      <td>9</td>\n",
       "      <td>8</td>\n",
       "      <td>9</td>\n",
       "    </tr>\n",
       "    <tr>\n",
       "      <th>8</th>\n",
       "      <td>9</td>\n",
       "      <td>10</td>\n",
       "      <td>9</td>\n",
       "      <td>10</td>\n",
       "    </tr>\n",
       "    <tr>\n",
       "      <th>9</th>\n",
       "      <td>10</td>\n",
       "      <td>11</td>\n",
       "      <td>10</td>\n",
       "      <td>11</td>\n",
       "    </tr>\n",
       "  </tbody>\n",
       "</table>\n",
       "</div>"
      ],
      "text/plain": [
       "    c   d   a   b\n",
       "0   1   2   1   2\n",
       "1   2   3   2   3\n",
       "2   3   4   3   4\n",
       "3   4   5   4   5\n",
       "4   5   6   5   6\n",
       "5   6   7   6   7\n",
       "6   7   8   7   8\n",
       "7   8   9   8   9\n",
       "8   9  10   9  10\n",
       "9  10  11  10  11"
      ]
     },
     "execution_count": 55,
     "metadata": {},
     "output_type": "execute_result"
    }
   ],
   "source": [
    "merged.drop_duplicates()"
   ]
  },
  {
   "attachments": {
    "image.png": {
     "image/png": "[encoded data removed]"
    }
   },
   "cell_type": "markdown",
   "id": "c56ecae0",
   "metadata": {},
   "source": [
    "![image.png](attachment:image.png)"
   ]
  },
  {
   "cell_type": "code",
   "execution_count": 18,
   "id": "23fbf044",
   "metadata": {},
   "outputs": [
    {
     "data": {
      "text/plain": [
       "array([[ 1,  2,  3,  4,  5,  6],\n",
       "       [ 7,  8,  9, 10, 11, 12],\n",
       "       [13, 14, 15, 16, 17, 18],\n",
       "       [19, 20, 21, 22, 23, 24],\n",
       "       [25, 26, 27, 28, 29, 30]])"
      ]
     },
     "execution_count": 18,
     "metadata": {},
     "output_type": "execute_result"
    }
   ],
   "source": [
    "array = np.array([i for i in range(1, 31)])\n",
    "array = array.reshape((5,6))\n",
    "array"
   ]
  },
  {
   "cell_type": "markdown",
   "id": "d0280088",
   "metadata": {},
   "source": [
    "**dtype & itemsize** "
   ]
  },
  {
   "cell_type": "code",
   "execution_count": 79,
   "id": "1c2850c2",
   "metadata": {},
   "outputs": [
    {
     "data": {
      "text/plain": [
       "dtype('int32')"
      ]
     },
     "execution_count": 79,
     "metadata": {},
     "output_type": "execute_result"
    }
   ],
   "source": [
    "array.dtype"
   ]
  },
  {
   "cell_type": "markdown",
   "id": "b6fbe9f6",
   "metadata": {},
   "source": [
    "**itemsize**: returns the size of an element in bytes"
   ]
  },
  {
   "cell_type": "code",
   "execution_count": null,
   "id": "b5614e06",
   "metadata": {},
   "outputs": [],
   "source": [
    "print(array.itemsize, \"bytes\")"
   ]
  },
  {
   "cell_type": "markdown",
   "id": "a1e0675d",
   "metadata": {},
   "source": [
    "**size**: returns the size of an array as number of elements in it."
   ]
  },
  {
   "cell_type": "code",
   "execution_count": 85,
   "id": "2fd96a94",
   "metadata": {},
   "outputs": [
    {
     "name": "stdout",
     "output_type": "stream",
     "text": [
      "16 elements\n"
     ]
    }
   ],
   "source": [
    "print(array.size, \"elements\")"
   ]
  },
  {
   "cell_type": "markdown",
   "id": "54f7f092",
   "metadata": {},
   "source": [
    "**nbytes**: returns the size of an array in bytes."
   ]
  },
  {
   "cell_type": "code",
   "execution_count": 86,
   "id": "09269a72",
   "metadata": {},
   "outputs": [
    {
     "name": "stdout",
     "output_type": "stream",
     "text": [
      "size of array = 64  bytes\n"
     ]
    }
   ],
   "source": [
    "# Get total size #\n",
    "print(\"size of array =\", array.size*array.itemsize, \" bytes\")"
   ]
  },
  {
   "cell_type": "code",
   "execution_count": 87,
   "id": "dc8faf19",
   "metadata": {},
   "outputs": [
    {
     "name": "stdout",
     "output_type": "stream",
     "text": [
      "size of array = 64  bytes\n"
     ]
    }
   ],
   "source": [
    "# Get total size of array using nbytes #\n",
    "print(\"size of array =\", array.nbytes, \" bytes\")"
   ]
  },
  {
   "cell_type": "markdown",
   "id": "ca46f53d",
   "metadata": {},
   "source": [
    "- **ndim**: returns the dimension of array.\n",
    "- **shape**: returns the shape of an ndim array."
   ]
  },
  {
   "cell_type": "code",
   "execution_count": 88,
   "id": "09b3b8cc",
   "metadata": {},
   "outputs": [
    {
     "name": "stdout",
     "output_type": "stream",
     "text": [
      "dimension:  2\n",
      "shape:  (8, 2)\n",
      "size:  16\n"
     ]
    }
   ],
   "source": [
    "# Scoping basic information of an array #\n",
    "print(\"dimension: \",array.ndim)\n",
    "print(\"shape: \",array.shape)\n",
    "print(\"size: \",array.size)"
   ]
  },
  {
   "cell_type": "markdown",
   "id": "f84833de",
   "metadata": {},
   "source": [
    "## Initializing numpy array "
   ]
  },
  {
   "cell_type": "markdown",
   "id": "32cc5be8",
   "metadata": {},
   "source": [
    "**Ones**: an array of ones"
   ]
  },
  {
   "cell_type": "code",
   "execution_count": 23,
   "id": "883b8d17",
   "metadata": {},
   "outputs": [
    {
     "data": {
      "text/plain": [
       "array([[1., 1., 1., 1., 1., 1.],\n",
       "       [1., 1., 1., 1., 1., 1.],\n",
       "       [1., 1., 1., 1., 1., 1.],\n",
       "       [1., 1., 1., 1., 1., 1.],\n",
       "       [1., 1., 1., 1., 1., 1.]])"
      ]
     },
     "execution_count": 23,
     "metadata": {},
     "output_type": "execute_result"
    }
   ],
   "source": [
    "arrone = np.ones([5, 6])\n",
    "arrone"
   ]
  },
  {
   "cell_type": "markdown",
   "id": "0760a600",
   "metadata": {},
   "source": [
    "**Zeros**: an array of zeros."
   ]
  },
  {
   "cell_type": "code",
   "execution_count": 25,
   "id": "54499f95",
   "metadata": {},
   "outputs": [
    {
     "data": {
      "text/plain": [
       "array([[0., 0., 0., 0., 0., 0.],\n",
       "       [0., 0., 0., 0., 0., 0.],\n",
       "       [0., 0., 0., 0., 0., 0.],\n",
       "       [0., 0., 0., 0., 0., 0.],\n",
       "       [0., 0., 0., 0., 0., 0.]])"
      ]
     },
     "execution_count": 25,
     "metadata": {},
     "output_type": "execute_result"
    }
   ],
   "source": [
    "arrzero = np.zeros([5, 6])\n",
    "arrzero"
   ]
  },
  {
   "cell_type": "markdown",
   "id": "8bdd260f",
   "metadata": {},
   "source": [
    "**Eye**: an array with 1s on the specified diagonal and 0s elsewhere"
   ]
  },
  {
   "cell_type": "code",
   "execution_count": 38,
   "id": "72016ad0",
   "metadata": {},
   "outputs": [
    {
     "data": {
      "text/plain": [
       "array([[0., 0., 0., 0.],\n",
       "       [0., 0., 0., 0.],\n",
       "       [0., 0., 0., 0.],\n",
       "       [1., 0., 0., 0.],\n",
       "       [0., 1., 0., 0.],\n",
       "       [0., 0., 1., 0.]])"
      ]
     },
     "execution_count": 38,
     "metadata": {},
     "output_type": "execute_result"
    }
   ],
   "source": [
    "arreye = np.eye(6, 4, -3)\n",
    "arreye"
   ]
  },
  {
   "cell_type": "markdown",
   "id": "feaaa60f",
   "metadata": {},
   "source": [
    "**Arange**: arange method is similar to range method in standard python. The arange method in numpy creates an array with the same elements as the range datatype. Unlike the range datatype, this is stored as an array.\n",
    "\n",
    "np.arange(start_, stop_, step_size)\n"
   ]
  },
  {
   "cell_type": "code",
   "execution_count": 41,
   "id": "9c201f93",
   "metadata": {},
   "outputs": [
    {
     "data": {
      "text/plain": [
       "array([2.   , 2.125, 2.25 , 2.375, 2.5  , 2.625, 2.75 , 2.875, 3.   ,\n",
       "       3.125, 3.25 , 3.375, 3.5  , 3.625, 3.75 , 3.875])"
      ]
     },
     "execution_count": 41,
     "metadata": {},
     "output_type": "execute_result"
    }
   ],
   "source": [
    "arrange = np.arange(2, 4, 0.125)\n",
    "arrange"
   ]
  },
  {
   "cell_type": "markdown",
   "id": "b7a6d83e",
   "metadata": {},
   "source": [
    "**Linspace**: The linspace method divides the given endpoints into specified number of equally spaced intervals."
   ]
  },
  {
   "cell_type": "code",
   "execution_count": 43,
   "id": "e5465db0",
   "metadata": {},
   "outputs": [
    {
     "data": {
      "text/plain": [
       "array([2.        , 2.13333333, 2.26666667, 2.4       , 2.53333333,\n",
       "       2.66666667, 2.8       , 2.93333333, 3.06666667, 3.2       ,\n",
       "       3.33333333, 3.46666667, 3.6       , 3.73333333, 3.86666667,\n",
       "       4.        ])"
      ]
     },
     "execution_count": 43,
     "metadata": {},
     "output_type": "execute_result"
    }
   ],
   "source": [
    "arrlinspace = np.linspace(2, 4, 16)\n",
    "arrlinspace\n"
   ]
  },
  {
   "cell_type": "markdown",
   "id": "0130d9c0",
   "metadata": {},
   "source": [
    "**Empty**: The empty method creates an array with very small values,\n",
    "of specified shape\n",
    "\n",
    "np.empty((rows_, columns_))"
   ]
  },
  {
   "cell_type": "code",
   "execution_count": 50,
   "id": "49d86639",
   "metadata": {},
   "outputs": [
    {
     "data": {
      "text/plain": [
       "array([[0., 0., 0., 0.],\n",
       "       [0., 0., 0., 0.],\n",
       "       [0., 0., 0., 0.],\n",
       "       [1., 0., 0., 0.],\n",
       "       [0., 1., 0., 0.],\n",
       "       [0., 0., 1., 0.]])"
      ]
     },
     "execution_count": 50,
     "metadata": {},
     "output_type": "execute_result"
    }
   ],
   "source": [
    "arrempty = np.empty((6, 4))\n",
    "arrempty"
   ]
  },
  {
   "cell_type": "markdown",
   "id": "cc927d9a",
   "metadata": {},
   "source": [
    "**Full**: The full method creates an array where each element contains the same value. \n",
    "\n",
    "np.full(a_shape, fill_value)"
   ]
  },
  {
   "cell_type": "code",
   "execution_count": 131,
   "id": "d5e4700a",
   "metadata": {},
   "outputs": [
    {
     "data": {
      "text/plain": [
       "array([[11, 11, 11, 11],\n",
       "       [11, 11, 11, 11],\n",
       "       [11, 11, 11, 11],\n",
       "       [11, 11, 11, 11],\n",
       "       [11, 11, 11, 11],\n",
       "       [11, 11, 11, 11]])"
      ]
     },
     "execution_count": 131,
     "metadata": {},
     "output_type": "execute_result"
    }
   ],
   "source": [
    "arrfull = np.full((6, 4), 11)\n",
    "arrfull"
   ]
  },
  {
   "cell_type": "markdown",
   "id": "b682cbdd",
   "metadata": {},
   "source": [
    "**full_like**: Creates an array with size equal to the array supplied and fills it with the mentioned value."
   ]
  },
  {
   "cell_type": "code",
   "execution_count": 132,
   "id": "81f84436",
   "metadata": {},
   "outputs": [
    {
     "data": {
      "text/plain": [
       "array([[7, 7, 7, 7],\n",
       "       [7, 7, 7, 7],\n",
       "       [7, 7, 7, 7],\n",
       "       [7, 7, 7, 7],\n",
       "       [7, 7, 7, 7],\n",
       "       [7, 7, 7, 7]])"
      ]
     },
     "execution_count": 132,
     "metadata": {},
     "output_type": "execute_result"
    }
   ],
   "source": [
    "arrflike = np.full_like(arrfull, 7)\n",
    "arrflike"
   ]
  },
  {
   "cell_type": "code",
   "execution_count": 134,
   "id": "352395d6",
   "metadata": {},
   "outputs": [
    {
     "name": "stdout",
     "output_type": "stream",
     "text": [
      "(6, 4)\n",
      "(6, 4)\n"
     ]
    }
   ],
   "source": [
    "print(arrfull.shape)\n",
    "print(arrflike.shape)"
   ]
  },
  {
   "cell_type": "markdown",
   "id": "4dc57168",
   "metadata": {},
   "source": [
    "**Copy**: Numpy arrays can not equated for copying their contents instead np.copy method is used to create copies of numpy arrays.\n",
    "\n",
    "np.copy(array)"
   ]
  },
  {
   "cell_type": "code",
   "execution_count": 54,
   "id": "fcc0d602",
   "metadata": {},
   "outputs": [
    {
     "data": {
      "text/plain": [
       "array([[11, 11, 11, 11],\n",
       "       [11, 11, 11, 11],\n",
       "       [11, 11, 11, 11],\n",
       "       [11, 11, 11, 11],\n",
       "       [11, 11, 11, 11],\n",
       "       [11, 11, 11, 11]])"
      ]
     },
     "execution_count": 54,
     "metadata": {},
     "output_type": "execute_result"
    }
   ],
   "source": [
    "arrcopy = np.copy(arrfull)\n",
    "arrcopy"
   ]
  },
  {
   "cell_type": "markdown",
   "id": "09dcd3ad",
   "metadata": {},
   "source": [
    "**Geomspace**: The geomspace method also creates an evenly spaced array between two end points like linspace but produces values evenly spaced on a log scale.\n",
    "\n",
    "    np.geomspace(start_, stop_, no_of_elements)"
   ]
  },
  {
   "cell_type": "code",
   "execution_count": 57,
   "id": "4b499643",
   "metadata": {},
   "outputs": [
    {
     "data": {
      "text/plain": [
       "array([1.        , 1.18920712, 1.41421356, 1.68179283, 2.        ])"
      ]
     },
     "execution_count": 57,
     "metadata": {},
     "output_type": "execute_result"
    }
   ],
   "source": [
    "arrgeom = np.geomspace(1, 2, 5)\n",
    "arrgeom"
   ]
  },
  {
   "cell_type": "markdown",
   "id": "3397253c",
   "metadata": {},
   "source": [
    "**rng (Random Number Generator)**: Firstly we have to create a random number generator by using \n",
    "    \n",
    "    np.random.default_rng()\n",
    "and then we can generate random numbers according to the parameters specified. By default rng.random() code will generate random float between 0 and 1"
   ]
  },
  {
   "cell_type": "code",
   "execution_count": 60,
   "id": "c3386948",
   "metadata": {},
   "outputs": [],
   "source": [
    "rng = np.random.default_rng()"
   ]
  },
  {
   "cell_type": "code",
   "execution_count": 61,
   "id": "729a0769",
   "metadata": {},
   "outputs": [
    {
     "data": {
      "text/plain": [
       "0.6494312566681211"
      ]
     },
     "execution_count": 61,
     "metadata": {},
     "output_type": "execute_result"
    }
   ],
   "source": [
    "rng.random()"
   ]
  },
  {
   "cell_type": "markdown",
   "id": "d069ca88",
   "metadata": {},
   "source": [
    "an array of random values can be generated by passing an integer the function"
   ]
  },
  {
   "cell_type": "code",
   "execution_count": 62,
   "id": "f138d47b",
   "metadata": {},
   "outputs": [
    {
     "data": {
      "text/plain": [
       "array([0.27246657, 0.84990597, 0.77390204, 0.18760376, 0.7780076 ,\n",
       "       0.07961651, 0.63467208, 0.39341191, 0.20106829, 0.54364938])"
      ]
     },
     "execution_count": 62,
     "metadata": {},
     "output_type": "execute_result"
    }
   ],
   "source": [
    "rng.random(10)"
   ]
  },
  {
   "cell_type": "markdown",
   "id": "d9b77f8f",
   "metadata": {},
   "source": [
    "**integers**: by default rng.random() generates random float values. We can use rng.integers() method to generate integer values\n",
    "\n",
    "rng.integers(start_ , stop_ , no_of_values)"
   ]
  },
  {
   "cell_type": "code",
   "execution_count": 64,
   "id": "60a9ddde",
   "metadata": {},
   "outputs": [
    {
     "data": {
      "text/plain": [
       "array([23, 54, 41, 61, 53, 35, 62, 91, 48, 92, 41, 68, 10, 65, 83, 94, 66,\n",
       "       72, 93, 79, 99, 61, 84, 17, 37, 70, 18, 57, 55, 53, 69, 96, 78, 35,\n",
       "       97, 49,  4, 66, 13, 73, 77, 97, 82, 87, 71, 14,  5, 22, 99, 38],\n",
       "      dtype=int64)"
      ]
     },
     "execution_count": 64,
     "metadata": {},
     "output_type": "execute_result"
    }
   ],
   "source": [
    "rng.integers(1, 100, 50)"
   ]
  },
  {
   "cell_type": "markdown",
   "id": "f5b5f501",
   "metadata": {},
   "source": [
    "**repeat**: There are mulitple ways of applying numpy.repeat function \n",
    "    \n",
    "    -np.repeat(value, x_times)\n",
    "    -np.repeat(value_list, x_times)\n",
    "    -np.repeat(value_list, x_times_list)"
   ]
  },
  {
   "cell_type": "code",
   "execution_count": 67,
   "id": "524f1efa",
   "metadata": {},
   "outputs": [
    {
     "data": {
      "text/plain": [
       "array([25, 25, 25, 25, 25])"
      ]
     },
     "execution_count": 67,
     "metadata": {},
     "output_type": "execute_result"
    }
   ],
   "source": [
    "arrepeat = np.repeat(25, 5)\n",
    "arrepeat"
   ]
  },
  {
   "cell_type": "code",
   "execution_count": 69,
   "id": "2b2f2631",
   "metadata": {},
   "outputs": [
    {
     "data": {
      "text/plain": [
       "array([25, 25, 25, 25, 50, 50, 50, 50, 75, 75, 75, 75])"
      ]
     },
     "execution_count": 69,
     "metadata": {},
     "output_type": "execute_result"
    }
   ],
   "source": [
    "arrepeat2 = np.repeat([25, 50, 75], 4)\n",
    "arrepeat2"
   ]
  },
  {
   "cell_type": "code",
   "execution_count": 71,
   "id": "25e61df7",
   "metadata": {},
   "outputs": [
    {
     "data": {
      "text/plain": [
       "array([25, 25, 50, 50, 50, 50, 50, 70, 70, 70, 70, 70, 70, 70])"
      ]
     },
     "execution_count": 71,
     "metadata": {},
     "output_type": "execute_result"
    }
   ],
   "source": [
    "arrepeat3 = np.repeat([25, 50 ,70], [2, 5 ,7])\n",
    "arrepeat3"
   ]
  },
  {
   "cell_type": "code",
   "execution_count": 143,
   "id": "0e9c7d9c",
   "metadata": {},
   "outputs": [
    {
     "data": {
      "text/plain": [
       "array([[ 0.93747971,  0.93747971,  0.93747971,  0.6327562 ,  0.6327562 ,\n",
       "         0.6327562 , -0.79288742, -0.79288742, -0.79288742]])"
      ]
     },
     "execution_count": 143,
     "metadata": {},
     "output_type": "execute_result"
    }
   ],
   "source": [
    "arr = np.random.randn(1,3)\n",
    "arrepeat4 = np.repeat(arr, 3, axis = 1)\n",
    "arrepeat4"
   ]
  },
  {
   "cell_type": "markdown",
   "id": "9a40bfb2",
   "metadata": {},
   "source": [
    "**Random number generators**:\n",
    "\n",
    "The **numpy.random** module implements pseudo-random number generators (PRNGs) or random numbe generators (RNGs) with the ability to draw samples from a variety of distributions. In general, a user creates a generator instance with default_rng and calls the various methods on it to obtain samples from different distributions."
   ]
  },
  {
   "cell_type": "code",
   "execution_count": 73,
   "id": "1d43827e",
   "metadata": {},
   "outputs": [
    {
     "data": {
      "text/plain": [
       "array([[0.84311407, 0.49859486],\n",
       "       [0.80452868, 0.05227964],\n",
       "       [0.11990208, 0.71198728],\n",
       "       [0.66540231, 0.87168639],\n",
       "       [0.76809183, 0.84889362]])"
      ]
     },
     "execution_count": 73,
     "metadata": {},
     "output_type": "execute_result"
    }
   ],
   "source": [
    "rng = np.random.default_rng()\n",
    "rng.random(10).reshape(5, 2)"
   ]
  },
  {
   "cell_type": "code",
   "execution_count": 76,
   "id": "55a37df9",
   "metadata": {},
   "outputs": [],
   "source": [
    "prng = np.random"
   ]
  },
  {
   "cell_type": "markdown",
   "id": "c83cd76b",
   "metadata": {},
   "source": [
    "**rand**: Random values in given shape create a random array of the given shape and populate it with random samples from a uniform distribution over [0, 1).\n"
   ]
  },
  {
   "cell_type": "code",
   "execution_count": 80,
   "id": "8777725e",
   "metadata": {},
   "outputs": [
    {
     "data": {
      "text/plain": [
       "array([[0.29058654, 0.12117237],\n",
       "       [0.24151672, 0.20627739],\n",
       "       [0.53323913, 0.74326435],\n",
       "       [0.25219902, 0.63957953],\n",
       "       [0.77071689, 0.62480638]])"
      ]
     },
     "execution_count": 80,
     "metadata": {},
     "output_type": "execute_result"
    }
   ],
   "source": [
    "prng.rand(5, 2)"
   ]
  },
  {
   "cell_type": "markdown",
   "id": "3c956ec4",
   "metadata": {},
   "source": [
    "**randn**: Return a sample (or samples) from the standard normal distribution.\n",
    "\n",
    "- if positive int_like arguments are provided, randn generates an array of shape (d0, d1, d2, d3, d4, ....., dn) with float values from a univariate \"Normal\" (Gaussian) distribution with mean 0 and variance 1. \n",
    "- a single float from the distribution is returned if no argument is provided.\n"
   ]
  },
  {
   "cell_type": "code",
   "execution_count": 81,
   "id": "80330979",
   "metadata": {},
   "outputs": [
    {
     "data": {
      "text/plain": [
       "array([[ 1.03297629,  0.07897382],\n",
       "       [-1.66513018,  0.56648213],\n",
       "       [-1.06531266, -2.01650085],\n",
       "       [ 0.05720545,  1.16170356],\n",
       "       [-2.27498635, -0.61755645]])"
      ]
     },
     "execution_count": 81,
     "metadata": {},
     "output_type": "execute_result"
    }
   ],
   "source": [
    "prng.randn(5, 2)"
   ]
  },
  {
   "cell_type": "markdown",
   "id": "505f5771",
   "metadata": {},
   "source": [
    "**randint**: method return random integers from low(inclusive) to high(exclusive).\n",
    "- This method return random integers from the \"discrete uniform distribution\" of the specified dtype in the half open interval [low, high).\n",
    "\n",
    "- If high is None(default), then result are from [0, low)."
   ]
  },
  {
   "cell_type": "code",
   "execution_count": 87,
   "id": "cf3684f0",
   "metadata": {},
   "outputs": [
    {
     "data": {
      "text/html": [
       "<div>\n",
       "<style scoped>\n",
       "    .dataframe tbody tr th:only-of-type {\n",
       "        vertical-align: middle;\n",
       "    }\n",
       "\n",
       "    .dataframe tbody tr th {\n",
       "        vertical-align: top;\n",
       "    }\n",
       "\n",
       "    .dataframe thead th {\n",
       "        text-align: right;\n",
       "    }\n",
       "</style>\n",
       "<table border=\"1\" class=\"dataframe\">\n",
       "  <thead>\n",
       "    <tr style=\"text-align: right;\">\n",
       "      <th></th>\n",
       "      <th>0</th>\n",
       "      <th>1</th>\n",
       "    </tr>\n",
       "  </thead>\n",
       "  <tbody>\n",
       "    <tr>\n",
       "      <th>0</th>\n",
       "      <td>11</td>\n",
       "      <td>27</td>\n",
       "    </tr>\n",
       "    <tr>\n",
       "      <th>1</th>\n",
       "      <td>36</td>\n",
       "      <td>54</td>\n",
       "    </tr>\n",
       "    <tr>\n",
       "      <th>2</th>\n",
       "      <td>37</td>\n",
       "      <td>70</td>\n",
       "    </tr>\n",
       "    <tr>\n",
       "      <th>3</th>\n",
       "      <td>54</td>\n",
       "      <td>79</td>\n",
       "    </tr>\n",
       "    <tr>\n",
       "      <th>4</th>\n",
       "      <td>78</td>\n",
       "      <td>70</td>\n",
       "    </tr>\n",
       "  </tbody>\n",
       "</table>\n",
       "</div>"
      ],
      "text/plain": [
       "    0   1\n",
       "0  11  27\n",
       "1  36  54\n",
       "2  37  70\n",
       "3  54  79\n",
       "4  78  70"
      ]
     },
     "execution_count": 87,
     "metadata": {},
     "output_type": "execute_result"
    }
   ],
   "source": [
    "arr = prng.randint(low = 10, high = 100, size = (5, 2))\n",
    "pd.DataFrame(arr)"
   ]
  },
  {
   "cell_type": "markdown",
   "id": "9e9ac75b",
   "metadata": {},
   "source": [
    "**random_integers** method returns random integers of type np.int_ between low and high, inclusive.\n",
    "- This method returns random integers of type np.int_ from a discrete uniform distribution in the closed interval [low, high]. If high is None(the default), then results are from [0, low]. \n",
    "- The np.int_ type translated to the C long integer type and it's precision is platform dependent."
   ]
  },
  {
   "cell_type": "code",
   "execution_count": 88,
   "id": "e1778c05",
   "metadata": {},
   "outputs": [
    {
     "name": "stderr",
     "output_type": "stream",
     "text": [
      "C:\\Users\\death\\AppData\\Local\\Temp\\ipykernel_21628\\1886848010.py:1: DeprecationWarning: This function is deprecated. Please call randint(5, 75 + 1) instead\n",
      "  prng.random_integers(low = 5, high = 75, size = (5, 5))\n"
     ]
    },
    {
     "data": {
      "text/plain": [
       "array([[23, 19, 36, 57, 18],\n",
       "       [75, 15, 48, 62, 17],\n",
       "       [41, 59,  9, 43, 30],\n",
       "       [39, 60, 67, 26, 17],\n",
       "       [28, 75, 41, 69, 43]])"
      ]
     },
     "execution_count": 88,
     "metadata": {},
     "output_type": "execute_result"
    }
   ],
   "source": [
    "prng.random_integers(low = 5, high = 75, size = (5, 5))"
   ]
  },
  {
   "cell_type": "markdown",
   "id": "1601a05b",
   "metadata": {},
   "source": [
    "**random_sample**: returns random floats in the half-interval [0.0, 1.0).\n",
    "\n",
    "- Results are from the \"continuous uniform\" distribution over the stated interval. "
   ]
  },
  {
   "cell_type": "code",
   "execution_count": 92,
   "id": "f9246c8c",
   "metadata": {},
   "outputs": [
    {
     "data": {
      "text/plain": [
       "array([[0.70815706, 0.30207376, 0.31902207, 0.58602635, 0.0797347 ],\n",
       "       [0.33391948, 0.04642185, 0.39796997, 0.76007574, 0.54828155],\n",
       "       [0.15741131, 0.45870451, 0.74499956, 0.60510878, 0.27693082],\n",
       "       [0.95876141, 0.3134844 , 0.87541984, 0.96707361, 0.08055644],\n",
       "       [0.14331784, 0.66327956, 0.19808327, 0.13037875, 0.39409928]])"
      ]
     },
     "execution_count": 92,
     "metadata": {},
     "output_type": "execute_result"
    }
   ],
   "source": [
    "prng.random_sample((5,5))"
   ]
  },
  {
   "cell_type": "markdown",
   "id": "c8082e26",
   "metadata": {},
   "source": [
    "**choice**: method generates a random sample froma given 1-D array.\n",
    "\n",
    "random.RandomState.choice(a, size= None, replace= True, p= None)\n",
    "\n",
    "- a: 1-D array-like or int\n",
    "- size: int or tuple of ints (default = None)\n",
    "- replace: boolean output. this ensures whether a sample is with or without replacement. Default is True, meaning that a value of \"a\" can be selected multiple times.\n",
    "- p: 1-D array specifying probabilities of occurrence of each element (default = uniform distribution over all values of a)"
   ]
  },
  {
   "cell_type": "code",
   "execution_count": 94,
   "id": "21b700e0",
   "metadata": {},
   "outputs": [
    {
     "name": "stdout",
     "output_type": "stream",
     "text": [
      "['Excel' 'Public policy analysis' 'Python']\n",
      "['Tableau' 'SQL' 'Public policy analysis']\n",
      "['Python' 'Tableau' 'Risk Management']\n"
     ]
    }
   ],
   "source": [
    "a = [\"Maths\", \"Python\", \"SQL\", \"Excel\", \"Powerbi\", \"Tableau\", \"Statistics\", \"Public policy analysis\", \"Operations Reasearch\", \"Risk Management\"]\n",
    "\n",
    "for i in range(3):\n",
    "    print(prng.choice(a, size = 3, replace = True))"
   ]
  },
  {
   "cell_type": "code",
   "execution_count": 97,
   "id": "08f3c43a",
   "metadata": {},
   "outputs": [
    {
     "data": {
      "text/html": [
       "<div>\n",
       "<style scoped>\n",
       "    .dataframe tbody tr th:only-of-type {\n",
       "        vertical-align: middle;\n",
       "    }\n",
       "\n",
       "    .dataframe tbody tr th {\n",
       "        vertical-align: top;\n",
       "    }\n",
       "\n",
       "    .dataframe thead th {\n",
       "        text-align: right;\n",
       "    }\n",
       "</style>\n",
       "<table border=\"1\" class=\"dataframe\">\n",
       "  <thead>\n",
       "    <tr style=\"text-align: right;\">\n",
       "      <th></th>\n",
       "      <th>s1</th>\n",
       "      <th>s2</th>\n",
       "      <th>s3</th>\n",
       "    </tr>\n",
       "  </thead>\n",
       "  <tbody>\n",
       "    <tr>\n",
       "      <th>0</th>\n",
       "      <td>Maths</td>\n",
       "      <td>Risk Management</td>\n",
       "      <td>Python</td>\n",
       "    </tr>\n",
       "    <tr>\n",
       "      <th>1</th>\n",
       "      <td>Public policy analysis</td>\n",
       "      <td>Tableau</td>\n",
       "      <td>Risk Management</td>\n",
       "    </tr>\n",
       "    <tr>\n",
       "      <th>2</th>\n",
       "      <td>Maths</td>\n",
       "      <td>Public policy analysis</td>\n",
       "      <td>Statistics</td>\n",
       "    </tr>\n",
       "  </tbody>\n",
       "</table>\n",
       "</div>"
      ],
      "text/plain": [
       "                       s1                      s2               s3\n",
       "0                   Maths         Risk Management           Python\n",
       "1  Public policy analysis                 Tableau  Risk Management\n",
       "2                   Maths  Public policy analysis       Statistics"
      ]
     },
     "execution_count": 97,
     "metadata": {},
     "output_type": "execute_result"
    }
   ],
   "source": [
    "pd.DataFrame(prng.choice(a, size = (3,3), replace = True), columns = [\"s1\", \"s2\", \"s3\"])"
   ]
  },
  {
   "cell_type": "markdown",
   "id": "9355fb77",
   "metadata": {},
   "source": [
    "**bytes**: method returns random bytes"
   ]
  },
  {
   "cell_type": "code",
   "execution_count": 98,
   "id": "db18a37d",
   "metadata": {},
   "outputs": [
    {
     "data": {
      "text/plain": [
       "b'\\x7f\\xd1xzx\\x1b0=\\xa7\\x8f'"
      ]
     },
     "execution_count": 98,
     "metadata": {},
     "output_type": "execute_result"
    }
   ],
   "source": [
    "prng.bytes(10)"
   ]
  },
  {
   "cell_type": "markdown",
   "id": "aef7f23e",
   "metadata": {},
   "source": [
    "**identity**: method returns an identity matrix/ square matrix of the size provided."
   ]
  },
  {
   "cell_type": "code",
   "execution_count": 136,
   "id": "69ce5adb",
   "metadata": {},
   "outputs": [
    {
     "data": {
      "text/plain": [
       "array([[1., 0., 0.],\n",
       "       [0., 1., 0.],\n",
       "       [0., 0., 1.]])"
      ]
     },
     "execution_count": 136,
     "metadata": {},
     "output_type": "execute_result"
    }
   ],
   "source": [
    "np.identity(3)"
   ]
  },
  {
   "cell_type": "markdown",
   "id": "fc78d66c",
   "metadata": {},
   "source": [
    "## Indexing and Slicing arrays ##"
   ]
  },
  {
   "cell_type": "markdown",
   "id": "c56f8384",
   "metadata": {},
   "source": [
    "Indexing and slicing NumPy arrays is done as we do Pandas dataframes, Pandas series and lists. "
   ]
  },
  {
   "cell_type": "code",
   "execution_count": 4,
   "id": "0185bc13",
   "metadata": {},
   "outputs": [
    {
     "data": {
      "text/plain": [
       "array([[259, 295],\n",
       "       [312, 316],\n",
       "       [320, 292],\n",
       "       [300, 267],\n",
       "       [287, 298],\n",
       "       [270, 322],\n",
       "       [296, 270],\n",
       "       [304, 271]])"
      ]
     },
     "execution_count": 4,
     "metadata": {},
     "output_type": "execute_result"
    }
   ],
   "source": [
    "#Initialising a numpy array#\n",
    "array = np.random.randint(low = 256, high = 324, size = (8, 2))\n",
    "array"
   ]
  },
  {
   "cell_type": "code",
   "execution_count": 7,
   "id": "4330e088",
   "metadata": {},
   "outputs": [
    {
     "data": {
      "text/plain": [
       "array([312, 316])"
      ]
     },
     "execution_count": 7,
     "metadata": {},
     "output_type": "execute_result"
    }
   ],
   "source": [
    "#Slicing#\n",
    "array[1, :]"
   ]
  },
  {
   "cell_type": "code",
   "execution_count": 8,
   "id": "864608bb",
   "metadata": {},
   "outputs": [
    {
     "data": {
      "text/plain": [
       "312"
      ]
     },
     "execution_count": 8,
     "metadata": {},
     "output_type": "execute_result"
    }
   ],
   "source": [
    "#accessing elements#\n",
    "array[1,0]"
   ]
  },
  {
   "cell_type": "code",
   "execution_count": 9,
   "id": "f605dd9a",
   "metadata": {},
   "outputs": [
    {
     "data": {
      "text/plain": [
       "array([[259, 295],\n",
       "       [312, 316],\n",
       "       [320, 292]])"
      ]
     },
     "execution_count": 9,
     "metadata": {},
     "output_type": "execute_result"
    }
   ],
   "source": [
    "#accessing first three elements#\n",
    "array[:3]"
   ]
  },
  {
   "cell_type": "code",
   "execution_count": 26,
   "id": "4a267dc4",
   "metadata": {},
   "outputs": [
    {
     "data": {
      "text/plain": [
       "array([[295, 259],\n",
       "       [316, 312],\n",
       "       [292, 320],\n",
       "       [267, 300],\n",
       "       [298, 287],\n",
       "       [322, 270],\n",
       "       [270, 296],\n",
       "       [271, 304]])"
      ]
     },
     "execution_count": 26,
     "metadata": {},
     "output_type": "execute_result"
    }
   ],
   "source": [
    "#accessing second column of the array#\n",
    "col2 = array[:, 1].reshape(-1,1)\n",
    "#accessing first column of the array#\n",
    "col1 = array[:, 0].reshape(-1,1)\n",
    "#creating an array with columns interchanged#\n",
    "rev = np.concatenate((col2, col1), axis = 1)\n",
    "rev"
   ]
  },
  {
   "cell_type": "markdown",
   "id": "33f209bf",
   "metadata": {},
   "source": [
    "**np.vstack()** & **np.hstack()**: In addition to the np.concatenate() function, NumPy provides two functions that can be used to concatenate 2d arrays. These functions are specifically designed for vertical and horizontal concatenation, respectively.\n"
   ]
  },
  {
   "cell_type": "code",
   "execution_count": 28,
   "id": "ebfebd98",
   "metadata": {},
   "outputs": [
    {
     "data": {
      "text/plain": [
       "array([[295],\n",
       "       [316],\n",
       "       [292],\n",
       "       [267],\n",
       "       [298],\n",
       "       [322],\n",
       "       [270],\n",
       "       [271],\n",
       "       [259],\n",
       "       [312],\n",
       "       [320],\n",
       "       [300],\n",
       "       [287],\n",
       "       [270],\n",
       "       [296],\n",
       "       [304]])"
      ]
     },
     "execution_count": 28,
     "metadata": {},
     "output_type": "execute_result"
    }
   ],
   "source": [
    "np.vstack((col2, col1))"
   ]
  },
  {
   "cell_type": "code",
   "execution_count": 30,
   "id": "709246c0",
   "metadata": {},
   "outputs": [
    {
     "data": {
      "text/plain": [
       "array([[295, 259],\n",
       "       [316, 312],\n",
       "       [292, 320],\n",
       "       [267, 300],\n",
       "       [298, 287],\n",
       "       [322, 270],\n",
       "       [270, 296],\n",
       "       [271, 304]])"
      ]
     },
     "execution_count": 30,
     "metadata": {},
     "output_type": "execute_result"
    }
   ],
   "source": [
    "arrbm = np.hstack((col2, col1))\n",
    "arrbm"
   ]
  },
  {
   "cell_type": "markdown",
   "id": "6682b18d",
   "metadata": {},
   "source": [
    "## Boolean Mask ##"
   ]
  },
  {
   "cell_type": "markdown",
   "id": "cd94714a",
   "metadata": {},
   "source": [
    "One of the most powerful concepts in NumPy is Boolean masking. \n",
    "- We can subset the NumPy array based on a logical true false condition and get the output as the elements which satisy that condition. "
   ]
  },
  {
   "cell_type": "code",
   "execution_count": 31,
   "id": "5e8167eb",
   "metadata": {},
   "outputs": [
    {
     "data": {
      "text/plain": [
       "array([[295, 259],\n",
       "       [316, 312],\n",
       "       [292, 320],\n",
       "       [267, 300],\n",
       "       [298, 287],\n",
       "       [322, 270],\n",
       "       [270, 296],\n",
       "       [271, 304]])"
      ]
     },
     "execution_count": 31,
     "metadata": {},
     "output_type": "execute_result"
    }
   ],
   "source": [
    "arrbm"
   ]
  },
  {
   "cell_type": "markdown",
   "id": "14aba79e",
   "metadata": {},
   "source": [
    "**logical_or**: Perform element wise logical OR operation on arrays and returns an array with true and false values at respective indexes.\n",
    "- np.logical_or accepts only two arrays and not more so for performing multiple operations nesting can be used.\n",
    "- np.logical_or( x, y , out = None, where = True)"
   ]
  },
  {
   "cell_type": "code",
   "execution_count": 76,
   "id": "5c5e14c3",
   "metadata": {},
   "outputs": [
    {
     "data": {
      "text/plain": [
       "array([[ True, False],\n",
       "       [False,  True],\n",
       "       [False,  True],\n",
       "       [ True,  True],\n",
       "       [False, False],\n",
       "       [False,  True],\n",
       "       [ True, False],\n",
       "       [False, False]])"
      ]
     },
     "execution_count": 76,
     "metadata": {},
     "output_type": "execute_result"
    }
   ],
   "source": [
    "np.logical_or(arrbm % 5 == 0 , arrbm % 3 == 0)"
   ]
  },
  {
   "cell_type": "code",
   "execution_count": 77,
   "id": "85728304",
   "metadata": {},
   "outputs": [
    {
     "data": {
      "text/plain": [
       "array([259, 316, 312, 292, 267, 298, 287, 322, 296, 271])"
      ]
     },
     "execution_count": 77,
     "metadata": {},
     "output_type": "execute_result"
    }
   ],
   "source": [
    "arrbm[~np.logical_or(arrbm % 16 == 0, np.logical_or(arrbm % 18 == 0, arrbm % 5 == 0))]"
   ]
  },
  {
   "cell_type": "code",
   "execution_count": 78,
   "id": "158357e6",
   "metadata": {},
   "outputs": [
    {
     "data": {
      "text/plain": [
       "array([295, 320, 300, 270, 270, 304])"
      ]
     },
     "execution_count": 78,
     "metadata": {},
     "output_type": "execute_result"
    }
   ],
   "source": [
    "arrbm[np.logical_or(arrbm % 16 == 0, np.logical_or(arrbm % 18 == 0, arrbm % 5 == 0))]"
   ]
  },
  {
   "cell_type": "code",
   "execution_count": 219,
   "id": "4377252f",
   "metadata": {},
   "outputs": [
    {
     "data": {
      "text/plain": [
       "array([295, 320, 300, 270, 270, 304])"
      ]
     },
     "execution_count": 219,
     "metadata": {},
     "output_type": "execute_result"
    }
   ],
   "source": [
    "arrbm[((arrbm % 16 == 0) | (arrbm % 5 == 0))]"
   ]
  },
  {
   "cell_type": "code",
   "execution_count": 220,
   "id": "ddf7856c",
   "metadata": {},
   "outputs": [
    {
     "data": {
      "text/plain": [
       "array([295, 320, 300, 270, 270, 304])"
      ]
     },
     "execution_count": 220,
     "metadata": {},
     "output_type": "execute_result"
    }
   ],
   "source": [
    "arrbm[((arrbm % 16 == 0) | (arrbm % 5 == 0) | (arrbm % 18 == 0))]"
   ]
  },
  {
   "cell_type": "markdown",
   "id": "a4d41be3",
   "metadata": {},
   "source": [
    "**logical_and**: performs element wise logical_and operation on two numpy arrays and returns a NumPy array with true and false values at respective indexes."
   ]
  },
  {
   "cell_type": "code",
   "execution_count": 61,
   "id": "92f0f0fc",
   "metadata": {},
   "outputs": [
    {
     "data": {
      "text/plain": [
       "array([320])"
      ]
     },
     "execution_count": 61,
     "metadata": {},
     "output_type": "execute_result"
    }
   ],
   "source": [
    "arrbm[np.logical_and(arrbm % 16 == 0, arrbm % 5 == 0)]"
   ]
  },
  {
   "cell_type": "code",
   "execution_count": 218,
   "id": "07f66d0b",
   "metadata": {},
   "outputs": [
    {
     "data": {
      "text/plain": [
       "array([320])"
      ]
     },
     "execution_count": 218,
     "metadata": {},
     "output_type": "execute_result"
    }
   ],
   "source": [
    "arrbm[((arrbm % 16 == 0) & (arrbm % 5 == 0))]"
   ]
  },
  {
   "cell_type": "code",
   "execution_count": 217,
   "id": "2514b55d",
   "metadata": {},
   "outputs": [
    {
     "data": {
      "text/plain": [
       "array([270, 270])"
      ]
     },
     "execution_count": 217,
     "metadata": {},
     "output_type": "execute_result"
    }
   ],
   "source": [
    "arrbm[((arrbm % 3 == 0) & (arrbm % 5 == 0) & (arrbm % 18 == 0))]"
   ]
  },
  {
   "cell_type": "markdown",
   "id": "c8975919",
   "metadata": {},
   "source": [
    "### Accessing/Changing specific elements, rows, columns ets. ###"
   ]
  },
  {
   "cell_type": "code",
   "execution_count": 99,
   "id": "0f2326a7",
   "metadata": {},
   "outputs": [
    {
     "data": {
      "text/plain": [
       "array([[ 3,  1, 12,  5,  4,  2, 12],\n",
       "       [ 9,  7,  6,  8,  5,  6,  6]])"
      ]
     },
     "execution_count": 99,
     "metadata": {},
     "output_type": "execute_result"
    }
   ],
   "source": [
    "a = np.random.randint(1, 15, (2, 7))\n",
    "a"
   ]
  },
  {
   "cell_type": "code",
   "execution_count": 100,
   "id": "19492952",
   "metadata": {},
   "outputs": [
    {
     "data": {
      "text/plain": [
       "6"
      ]
     },
     "execution_count": 100,
     "metadata": {},
     "output_type": "execute_result"
    }
   ],
   "source": [
    "# Get a specific element \n",
    "a[1, 5]"
   ]
  },
  {
   "cell_type": "code",
   "execution_count": 101,
   "id": "d5467bfa",
   "metadata": {},
   "outputs": [
    {
     "data": {
      "text/plain": [
       "array([9, 7, 6, 8, 5, 6, 6])"
      ]
     },
     "execution_count": 101,
     "metadata": {},
     "output_type": "execute_result"
    }
   ],
   "source": [
    "# Get a specific row\n",
    "a[1,:]"
   ]
  },
  {
   "cell_type": "code",
   "execution_count": 102,
   "id": "a4efbf98",
   "metadata": {},
   "outputs": [
    {
     "data": {
      "text/plain": [
       "array([12,  6])"
      ]
     },
     "execution_count": 102,
     "metadata": {},
     "output_type": "execute_result"
    }
   ],
   "source": [
    "# Get a specific column\n",
    "a[:, 2]"
   ]
  },
  {
   "cell_type": "code",
   "execution_count": 114,
   "id": "474c5337",
   "metadata": {},
   "outputs": [
    {
     "data": {
      "text/plain": [
       "array([1, 5, 2])"
      ]
     },
     "execution_count": 114,
     "metadata": {},
     "output_type": "execute_result"
    }
   ],
   "source": [
    "# [start_idx: end_idx : stepsize]\n",
    "a[0, 1:-1:2]"
   ]
  },
  {
   "cell_type": "code",
   "execution_count": 128,
   "id": "c5635961",
   "metadata": {},
   "outputs": [
    {
     "data": {
      "text/plain": [
       "array([[61,  3, 87, 30, 37, 51, 13],\n",
       "       [ 9,  7,  6,  8,  5,  6,  6]])"
      ]
     },
     "execution_count": 128,
     "metadata": {},
     "output_type": "execute_result"
    }
   ],
   "source": [
    "# modifying elements\n",
    "a[0, :] = np.random.randint(0, 100, (7))\n",
    "a"
   ]
  },
  {
   "cell_type": "code",
   "execution_count": 126,
   "id": "2e627f17",
   "metadata": {},
   "outputs": [
    {
     "data": {
      "text/plain": [
       "array([[77],\n",
       "       [63],\n",
       "       [ 2],\n",
       "       [11],\n",
       "       [29],\n",
       "       [74],\n",
       "       [27]])"
      ]
     },
     "execution_count": 126,
     "metadata": {},
     "output_type": "execute_result"
    }
   ],
   "source": [
    "np.random.randint(0, 100, (7, 1))"
   ]
  },
  {
   "cell_type": "markdown",
   "id": "c30a8f76",
   "metadata": {},
   "source": [
    "**Creating a padded array using indexing and slicing**"
   ]
  },
  {
   "cell_type": "code",
   "execution_count": 149,
   "id": "738036ef",
   "metadata": {},
   "outputs": [
    {
     "name": "stdout",
     "output_type": "stream",
     "text": [
      "[[1. 1. 1. 1. 1.]\n",
      " [1. 1. 1. 1. 1.]\n",
      " [1. 1. 1. 1. 1.]\n",
      " [1. 1. 1. 1. 1.]\n",
      " [1. 1. 1. 1. 1.]]\n",
      "[[0. 0. 0.]\n",
      " [0. 9. 0.]\n",
      " [0. 0. 0.]]\n"
     ]
    }
   ],
   "source": [
    "array = np.ones((5,5))\n",
    "print(array)\n",
    "z = np.zeros((3,3))\n",
    "z[1,1] = 9\n",
    "print(z)"
   ]
  },
  {
   "cell_type": "code",
   "execution_count": 151,
   "id": "f6f91d6b",
   "metadata": {},
   "outputs": [
    {
     "name": "stdout",
     "output_type": "stream",
     "text": [
      "[[1. 1. 1. 1. 1.]\n",
      " [1. 0. 0. 0. 1.]\n",
      " [1. 0. 9. 0. 1.]\n",
      " [1. 0. 0. 0. 1.]\n",
      " [1. 1. 1. 1. 1.]]\n"
     ]
    }
   ],
   "source": [
    "array[1:4, 1:4] = z\n",
    "print(array)"
   ]
  },
  {
   "cell_type": "markdown",
   "id": "0bfea268",
   "metadata": {},
   "source": [
    "#### Copying arrays ####"
   ]
  },
  {
   "cell_type": "code",
   "execution_count": 156,
   "id": "29b8430e",
   "metadata": {},
   "outputs": [
    {
     "data": {
      "text/plain": [
       "array([100,   2,   3])"
      ]
     },
     "execution_count": 156,
     "metadata": {},
     "output_type": "execute_result"
    }
   ],
   "source": [
    "a = np.array([1, 2, 3])\n",
    "b = a\n",
    "b[0] = 100\n",
    "a"
   ]
  },
  {
   "cell_type": "markdown",
   "id": "a016d982",
   "metadata": {},
   "source": [
    "NumPy array can not be copied by using assignment operators as it creates a referenced instance of the same array and any change to the value of the new array would automatically be reflected in the source array. So, for copying arrays **np.copy** can be used."
   ]
  },
  {
   "cell_type": "markdown",
   "id": "f0f65170",
   "metadata": {},
   "source": [
    "**.copy()**: copies contents of one array to a new array"
   ]
  },
  {
   "cell_type": "code",
   "execution_count": 162,
   "id": "3806e8e7",
   "metadata": {},
   "outputs": [
    {
     "name": "stdout",
     "output_type": "stream",
     "text": [
      "a =  [1 2 3] \n",
      "&\n",
      "b =  [100   2   3] \n",
      "evidently changes made in b are not being reflected in a\n"
     ]
    }
   ],
   "source": [
    "a = np.array([1, 2, 3])\n",
    "b = a.copy()\n",
    "b[0] = 100\n",
    "print(\"a = \", a, \"\\n&\\nb = \", b, \"\\nevidently changes made in b are not being reflected in a\")"
   ]
  },
  {
   "cell_type": "markdown",
   "id": "e4655feb",
   "metadata": {},
   "source": [
    "## Mathematical Operations ##"
   ]
  },
  {
   "cell_type": "code",
   "execution_count": 174,
   "id": "b3b2bc34",
   "metadata": {},
   "outputs": [
    {
     "data": {
      "text/plain": [
       "array([1, 2, 3, 4])"
      ]
     },
     "execution_count": 174,
     "metadata": {},
     "output_type": "execute_result"
    }
   ],
   "source": [
    "a = np.arange(1, 5)\n",
    "a"
   ]
  },
  {
   "cell_type": "code",
   "execution_count": 175,
   "id": "25721738",
   "metadata": {},
   "outputs": [
    {
     "data": {
      "text/plain": [
       "array([1, 2, 3, 4])"
      ]
     },
     "execution_count": 175,
     "metadata": {},
     "output_type": "execute_result"
    }
   ],
   "source": [
    "a + 2\n",
    "a"
   ]
  },
  {
   "cell_type": "code",
   "execution_count": 176,
   "id": "e3398a24",
   "metadata": {},
   "outputs": [
    {
     "data": {
      "text/plain": [
       "array([-1,  0,  1,  2])"
      ]
     },
     "execution_count": 176,
     "metadata": {},
     "output_type": "execute_result"
    }
   ],
   "source": [
    "a - 2"
   ]
  },
  {
   "cell_type": "code",
   "execution_count": 177,
   "id": "9b205ae7",
   "metadata": {},
   "outputs": [
    {
     "data": {
      "text/plain": [
       "array([2, 4, 6, 8])"
      ]
     },
     "execution_count": 177,
     "metadata": {},
     "output_type": "execute_result"
    }
   ],
   "source": [
    "a * 2"
   ]
  },
  {
   "cell_type": "code",
   "execution_count": 178,
   "id": "f50a25b5",
   "metadata": {},
   "outputs": [
    {
     "data": {
      "text/plain": [
       "array([0.5, 1. , 1.5, 2. ])"
      ]
     },
     "execution_count": 178,
     "metadata": {},
     "output_type": "execute_result"
    }
   ],
   "source": [
    "a / 2"
   ]
  },
  {
   "cell_type": "code",
   "execution_count": 179,
   "id": "8a315e96",
   "metadata": {},
   "outputs": [
    {
     "data": {
      "text/plain": [
       "array([ 1,  4,  9, 16], dtype=int32)"
      ]
     },
     "execution_count": 179,
     "metadata": {},
     "output_type": "execute_result"
    }
   ],
   "source": [
    "a ** 2"
   ]
  },
  {
   "cell_type": "code",
   "execution_count": 180,
   "id": "3319187a",
   "metadata": {},
   "outputs": [
    {
     "data": {
      "text/plain": [
       "array([ 0.54030231, -0.41614684, -0.9899925 , -0.65364362])"
      ]
     },
     "execution_count": 180,
     "metadata": {},
     "output_type": "execute_result"
    }
   ],
   "source": [
    "np.cos(a)"
   ]
  },
  {
   "cell_type": "code",
   "execution_count": 183,
   "id": "5e0b1305",
   "metadata": {},
   "outputs": [
    {
     "data": {
      "text/plain": [
       "array([2, 2, 4, 4])"
      ]
     },
     "execution_count": 183,
     "metadata": {},
     "output_type": "execute_result"
    }
   ],
   "source": [
    "b = np.array([0 if i%2 == 0 else 1 for i in range(1, 5)])\n",
    "a + b"
   ]
  },
  {
   "cell_type": "code",
   "execution_count": 184,
   "id": "f37db60b",
   "metadata": {},
   "outputs": [
    {
     "data": {
      "text/plain": [
       "array([1, 0, 3, 0])"
      ]
     },
     "execution_count": 184,
     "metadata": {},
     "output_type": "execute_result"
    }
   ],
   "source": [
    "a * b"
   ]
  },
  {
   "cell_type": "code",
   "execution_count": 185,
   "id": "e966f495",
   "metadata": {},
   "outputs": [
    {
     "data": {
      "text/plain": [
       "array([1, 1, 3, 1], dtype=int32)"
      ]
     },
     "execution_count": 185,
     "metadata": {},
     "output_type": "execute_result"
    }
   ],
   "source": [
    "a ** b"
   ]
  },
  {
   "cell_type": "code",
   "execution_count": 186,
   "id": "edb097fc",
   "metadata": {},
   "outputs": [
    {
     "data": {
      "text/plain": [
       "array([1.        , 0.        , 0.33333333, 0.        ])"
      ]
     },
     "execution_count": 186,
     "metadata": {},
     "output_type": "execute_result"
    }
   ],
   "source": [
    "b / a"
   ]
  },
  {
   "cell_type": "markdown",
   "id": "dd89c6e0",
   "metadata": {},
   "source": [
    "### Linear Algebra ###"
   ]
  },
  {
   "cell_type": "code",
   "execution_count": 193,
   "id": "eaf3dfc7",
   "metadata": {},
   "outputs": [
    {
     "data": {
      "text/plain": [
       "array([[6, 6],\n",
       "       [6, 6]])"
      ]
     },
     "execution_count": 193,
     "metadata": {},
     "output_type": "execute_result"
    }
   ],
   "source": [
    "a = np.ones((2, 3), dtype = 'int16')\n",
    "b = np.full((3, 2), 2)\n",
    "np.matmul(a, b)"
   ]
  },
  {
   "cell_type": "code",
   "execution_count": 194,
   "id": "e0481ae6",
   "metadata": {},
   "outputs": [
    {
     "data": {
      "text/plain": [
       "1.0"
      ]
     },
     "execution_count": 194,
     "metadata": {},
     "output_type": "execute_result"
    }
   ],
   "source": [
    "c = np.identity(3)\n",
    "np.linalg.det(c)"
   ]
  },
  {
   "cell_type": "markdown",
   "id": "b961a981",
   "metadata": {},
   "source": [
    "### Statistics ###"
   ]
  },
  {
   "cell_type": "code",
   "execution_count": 204,
   "id": "e8a15b16",
   "metadata": {},
   "outputs": [
    {
     "data": {
      "text/plain": [
       "array([[4, 4, 1],\n",
       "       [2, 6, 3]])"
      ]
     },
     "execution_count": 204,
     "metadata": {},
     "output_type": "execute_result"
    }
   ],
   "source": [
    "stats = np.random.randint(1, 7, (2, 3))\n",
    "stats"
   ]
  },
  {
   "cell_type": "code",
   "execution_count": 207,
   "id": "0281af03",
   "metadata": {},
   "outputs": [
    {
     "data": {
      "text/plain": [
       "array([1, 2])"
      ]
     },
     "execution_count": 207,
     "metadata": {},
     "output_type": "execute_result"
    }
   ],
   "source": [
    "# axis = 1 for rows and 0 for columns\n",
    "np.min(stats, axis = 1)\n",
    "# returns minimum values in rows"
   ]
  },
  {
   "cell_type": "code",
   "execution_count": 206,
   "id": "199cd3e4",
   "metadata": {},
   "outputs": [
    {
     "data": {
      "text/plain": [
       "array([4, 6, 3])"
      ]
     },
     "execution_count": 206,
     "metadata": {},
     "output_type": "execute_result"
    }
   ],
   "source": [
    "np.max(stats, axis = 0)\n",
    "# returns maximum values in columns"
   ]
  },
  {
   "cell_type": "code",
   "execution_count": 208,
   "id": "bf9f72fc",
   "metadata": {},
   "outputs": [
    {
     "data": {
      "text/plain": [
       "array([ 9, 11])"
      ]
     },
     "execution_count": 208,
     "metadata": {},
     "output_type": "execute_result"
    }
   ],
   "source": [
    "np.sum(stats, axis = 1)\n",
    "# sum of rows"
   ]
  },
  {
   "cell_type": "code",
   "execution_count": 210,
   "id": "9630fe33",
   "metadata": {},
   "outputs": [
    {
     "data": {
      "text/plain": [
       "array([3., 5., 2.])"
      ]
     },
     "execution_count": 210,
     "metadata": {},
     "output_type": "execute_result"
    }
   ],
   "source": [
    "np.mean(stats, axis = 0)\n",
    "# mean of columns"
   ]
  }
 ],
 "metadata": {
  "kernelspec": {
   "display_name": "Python 3 (ipykernel)",
   "language": "python",
   "name": "python3"
  },
  "language_info": {
   "codemirror_mode": {
    "name": "ipython",
    "version": 3
   },
   "file_extension": ".py",
   "mimetype": "text/x-python",
   "name": "python",
   "nbconvert_exporter": "python",
   "pygments_lexer": "ipython3",
   "version": "3.9.12"
  }
 },
 "nbformat": 4,
 "nbformat_minor": 5
}
